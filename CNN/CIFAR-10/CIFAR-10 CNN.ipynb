{
 "cells": [
  {
   "cell_type": "code",
   "execution_count": 1,
   "id": "257229b1",
   "metadata": {},
   "outputs": [],
   "source": [
    "import numpy as np \n",
    "import pandas as pd\n",
    "import matplotlib.pyplot as plt \n",
    "import seaborn as sns\n",
    "from tensorflow import keras"
   ]
  },
  {
   "cell_type": "markdown",
   "id": "ff5720ed",
   "metadata": {},
   "source": [
    "0. Airplanes\n",
    "1. Cars\n",
    "2. Birds\n",
    "3. Cats\n",
    "4. Deers\n",
    "5. Dogs\n",
    "6. Frogs\n",
    "7. Horses\n",
    "8. Ships\n",
    "9. Trucks"
   ]
  },
  {
   "cell_type": "code",
   "execution_count": 2,
   "id": "87dd2344",
   "metadata": {},
   "outputs": [],
   "source": [
    "from keras.datasets import cifar10\n",
    "(X_train, y_train), (X_test, y_test) = cifar10.load_data()"
   ]
  },
  {
   "cell_type": "code",
   "execution_count": 3,
   "id": "70941dab",
   "metadata": {},
   "outputs": [],
   "source": [
    "number_of_categories = 10\n",
    "X_train = X_train.astype('float32')\n",
    "X_test = X_test.astype('float32')\n",
    "y_train = keras.utils.to_categorical(y_train, number_of_categories)\n",
    "y_test = keras.utils.to_categorical(y_test, number_of_categories)\n",
    "# Data Normalization\n",
    "X_train = X_train/255\n",
    "X_test = X_test/255"
   ]
  },
  {
   "cell_type": "code",
   "execution_count": 4,
   "id": "61cf425c",
   "metadata": {},
   "outputs": [],
   "source": [
    "cnn = keras.models.Sequential()\n",
    "\n",
    "cnn.add(keras.layers.Conv2D(filters=32, kernel_size=(3,3), activation='relu', input_shape=(32,32,3)))\n",
    "cnn.add(keras.layers.MaxPooling2D(pool_size=2, strides=2))\n",
    "cnn.add(keras.layers.Dropout(0.3))\n",
    "\n",
    "cnn.add(keras.layers.Conv2D(filters=64, kernel_size=(3,3), activation='relu'))\n",
    "cnn.add(keras.layers.MaxPooling2D(pool_size=2, strides=2))\n",
    "cnn.add(keras.layers.Dropout(0.3))\n",
    "\n",
    "cnn.add(keras.layers.Flatten())\n",
    "\n",
    "cnn.add(keras.layers.Dense(units=1024, activation='relu'))\n",
    "cnn.add(keras.layers.Dense(units=1024, activation='relu'))\n",
    "cnn.add(keras.layers.Dense(units=10, activation='softmax'))"
   ]
  },
  {
   "cell_type": "code",
   "execution_count": 5,
   "id": "f297348d",
   "metadata": {},
   "outputs": [],
   "source": [
    "cnn.compile(loss='categorical_crossentropy',metrics=['accuracy'],optimizer='adam')"
   ]
  },
  {
   "cell_type": "code",
   "execution_count": 6,
   "id": "6301ea00",
   "metadata": {},
   "outputs": [
    {
     "name": "stdout",
     "output_type": "stream",
     "text": [
      "Epoch 1/50\n",
      "1563/1563 [==============================] - 55s 35ms/step - loss: 1.4845 - accuracy: 0.4585\n",
      "Epoch 2/50\n",
      "1563/1563 [==============================] - 55s 35ms/step - loss: 1.1201 - accuracy: 0.6021\n",
      "Epoch 3/50\n",
      "1563/1563 [==============================] - 55s 35ms/step - loss: 0.9535 - accuracy: 0.6623\n",
      "Epoch 4/50\n",
      "1563/1563 [==============================] - 55s 35ms/step - loss: 0.8346 - accuracy: 0.7053\n",
      "Epoch 5/50\n",
      "1563/1563 [==============================] - 56s 36ms/step - loss: 0.7368 - accuracy: 0.7391\n",
      "Epoch 6/50\n",
      "1563/1563 [==============================] - 55s 35ms/step - loss: 0.6495 - accuracy: 0.7687\n",
      "Epoch 7/50\n",
      "1563/1563 [==============================] - 55s 35ms/step - loss: 0.5639 - accuracy: 0.7986\n",
      "Epoch 8/50\n",
      "1563/1563 [==============================] - 56s 36ms/step - loss: 0.5031 - accuracy: 0.8199\n",
      "Epoch 9/50\n",
      "1563/1563 [==============================] - 56s 36ms/step - loss: 0.4537 - accuracy: 0.8382\n",
      "Epoch 10/50\n",
      "1563/1563 [==============================] - 56s 36ms/step - loss: 0.4150 - accuracy: 0.8550\n",
      "Epoch 11/50\n",
      "1563/1563 [==============================] - 56s 36ms/step - loss: 0.3726 - accuracy: 0.8687\n",
      "Epoch 12/50\n",
      "1563/1563 [==============================] - 56s 36ms/step - loss: 0.3424 - accuracy: 0.8793\n",
      "Epoch 13/50\n",
      "1563/1563 [==============================] - 56s 36ms/step - loss: 0.3115 - accuracy: 0.8901\n",
      "Epoch 14/50\n",
      "1563/1563 [==============================] - 55s 35ms/step - loss: 0.2984 - accuracy: 0.8969\n",
      "Epoch 15/50\n",
      "1563/1563 [==============================] - 55s 35ms/step - loss: 0.2831 - accuracy: 0.9022\n",
      "Epoch 16/50\n",
      "1563/1563 [==============================] - 55s 35ms/step - loss: 0.2665 - accuracy: 0.9083\n",
      "Epoch 17/50\n",
      "1563/1563 [==============================] - 56s 36ms/step - loss: 0.2525 - accuracy: 0.9129\n",
      "Epoch 18/50\n",
      "1563/1563 [==============================] - 55s 35ms/step - loss: 0.2397 - accuracy: 0.9189\n",
      "Epoch 19/50\n",
      "1563/1563 [==============================] - 56s 36ms/step - loss: 0.2338 - accuracy: 0.9211\n",
      "Epoch 20/50\n",
      "1563/1563 [==============================] - 55s 35ms/step - loss: 0.2217 - accuracy: 0.9253\n",
      "Epoch 21/50\n",
      "1563/1563 [==============================] - 55s 35ms/step - loss: 0.2242 - accuracy: 0.9269\n",
      "Epoch 22/50\n",
      "1563/1563 [==============================] - 55s 35ms/step - loss: 0.2097 - accuracy: 0.9304\n",
      "Epoch 23/50\n",
      "1563/1563 [==============================] - 55s 35ms/step - loss: 0.2121 - accuracy: 0.9294\n",
      "Epoch 24/50\n",
      "1563/1563 [==============================] - 55s 35ms/step - loss: 0.2039 - accuracy: 0.9334\n",
      "Epoch 25/50\n",
      "1563/1563 [==============================] - 55s 35ms/step - loss: 0.1967 - accuracy: 0.9355\n",
      "Epoch 26/50\n",
      "1563/1563 [==============================] - 55s 35ms/step - loss: 0.1936 - accuracy: 0.9369\n",
      "Epoch 27/50\n",
      "1563/1563 [==============================] - 56s 36ms/step - loss: 0.1873 - accuracy: 0.9393\n",
      "Epoch 28/50\n",
      "1563/1563 [==============================] - 55s 35ms/step - loss: 0.1860 - accuracy: 0.9412\n",
      "Epoch 29/50\n",
      "1563/1563 [==============================] - 56s 36ms/step - loss: 0.1899 - accuracy: 0.9384\n",
      "Epoch 30/50\n",
      "1563/1563 [==============================] - 68s 43ms/step - loss: 0.1776 - accuracy: 0.9430\n",
      "Epoch 31/50\n",
      "1563/1563 [==============================] - 57s 36ms/step - loss: 0.1796 - accuracy: 0.9423\n",
      "Epoch 32/50\n",
      "1563/1563 [==============================] - 57s 36ms/step - loss: 0.1781 - accuracy: 0.9436\n",
      "Epoch 33/50\n",
      "1563/1563 [==============================] - 56s 36ms/step - loss: 0.1768 - accuracy: 0.9441\n",
      "Epoch 34/50\n",
      "1563/1563 [==============================] - 56s 36ms/step - loss: 0.1685 - accuracy: 0.9463\n",
      "Epoch 35/50\n",
      "1563/1563 [==============================] - 56s 36ms/step - loss: 0.1698 - accuracy: 0.9470\n",
      "Epoch 36/50\n",
      "1563/1563 [==============================] - 55s 35ms/step - loss: 0.1717 - accuracy: 0.9476\n",
      "Epoch 37/50\n",
      "1563/1563 [==============================] - 56s 36ms/step - loss: 0.1699 - accuracy: 0.9471\n",
      "Epoch 38/50\n",
      "1563/1563 [==============================] - 56s 36ms/step - loss: 0.1684 - accuracy: 0.9473\n",
      "Epoch 39/50\n",
      "1563/1563 [==============================] - 56s 36ms/step - loss: 0.1716 - accuracy: 0.9475\n",
      "Epoch 40/50\n",
      "1563/1563 [==============================] - 34053s 22s/step - loss: 0.1676 - accuracy: 0.9487\n",
      "Epoch 41/50\n",
      "1563/1563 [==============================] - 59s 38ms/step - loss: 0.1625 - accuracy: 0.9510\n",
      "Epoch 42/50\n",
      "1563/1563 [==============================] - 54s 34ms/step - loss: 0.1572 - accuracy: 0.9521\n",
      "Epoch 43/50\n",
      "1563/1563 [==============================] - 55s 35ms/step - loss: 0.1532 - accuracy: 0.9530\n",
      "Epoch 44/50\n",
      "1563/1563 [==============================] - 54s 35ms/step - loss: 0.1638 - accuracy: 0.9503\n",
      "Epoch 45/50\n",
      "1563/1563 [==============================] - 57s 37ms/step - loss: 0.1605 - accuracy: 0.9514\n",
      "Epoch 46/50\n",
      "1563/1563 [==============================] - 56s 36ms/step - loss: 0.1526 - accuracy: 0.9548\n",
      "Epoch 47/50\n",
      "1563/1563 [==============================] - 54s 35ms/step - loss: 0.1527 - accuracy: 0.9555\n",
      "Epoch 48/50\n",
      "1563/1563 [==============================] - 55s 35ms/step - loss: 0.1546 - accuracy: 0.9541\n",
      "Epoch 49/50\n",
      "1563/1563 [==============================] - 55s 35ms/step - loss: 0.1601 - accuracy: 0.9526\n",
      "Epoch 50/50\n",
      "1563/1563 [==============================] - 55s 35ms/step - loss: 0.1571 - accuracy: 0.9533\n"
     ]
    },
    {
     "data": {
      "text/plain": [
       "<keras.callbacks.History at 0x2100cbfdb10>"
      ]
     },
     "execution_count": 6,
     "metadata": {},
     "output_type": "execute_result"
    }
   ],
   "source": [
    "cnn.fit(X_train, y_train, batch_size=32, epochs=50)"
   ]
  },
  {
   "cell_type": "code",
   "execution_count": 7,
   "id": "5b9ae1c1",
   "metadata": {},
   "outputs": [
    {
     "name": "stdout",
     "output_type": "stream",
     "text": [
      "313/313 [==============================] - 4s 9ms/step - loss: 1.6337 - accuracy: 0.7217\n",
      "Score: 1.633666753768921, Acuraccy: 0.7217000126838684\n"
     ]
    }
   ],
   "source": [
    "evaluation = cnn.evaluate(X_test, y_test)\n",
    "print(f\"Score: {evaluation[0]}, Acuraccy: {evaluation[1]}\")"
   ]
  },
  {
   "cell_type": "code",
   "execution_count": 8,
   "id": "10cc057f",
   "metadata": {},
   "outputs": [],
   "source": [
    "predicted = cnn.predict(X_test) \n",
    "y_pred = np.argmax(predicted,axis=1)\n",
    "y_test = y_test.argmax(1)"
   ]
  },
  {
   "cell_type": "code",
   "execution_count": 9,
   "id": "8624cad9",
   "metadata": {},
   "outputs": [
    {
     "data": {
      "text/plain": [
       "array([[786,  19,  37,  20,  18,   7,  13,   4,  74,  22],\n",
       "       [ 17, 849,   4,  11,   4,   4,  10,   4,  30,  67],\n",
       "       [ 67,   9, 612,  52, 103,  71,  50,  17,  11,   8],\n",
       "       [ 33,  11,  65, 484,  83, 203,  54,  24,  19,  24],\n",
       "       [ 32,   1,  60,  74, 708,  43,  38,  30,  10,   4],\n",
       "       [ 15,   5,  45, 144,  47, 660,  31,  34,   8,  11],\n",
       "       [  7,   8,  53,  58,  35,  23, 799,   5,   6,   6],\n",
       "       [ 27,   2,  27,  38,  77,  81,   9, 718,   5,  16],\n",
       "       [ 60,  31,  16,  22,   7,   8,   5,   3, 835,  13],\n",
       "       [ 40,  95,  11,  18,   4,   8,  11,  12,  35, 766]], dtype=int64)"
      ]
     },
     "execution_count": 9,
     "metadata": {},
     "output_type": "execute_result"
    }
   ],
   "source": [
    "from sklearn.metrics import confusion_matrix\n",
    "cm = confusion_matrix(y_test, y_pred)\n",
    "cm"
   ]
  },
  {
   "cell_type": "code",
   "execution_count": 10,
   "id": "a65dee9f",
   "metadata": {},
   "outputs": [
    {
     "data": {
      "text/plain": [
       "<AxesSubplot:>"
      ]
     },
     "execution_count": 10,
     "metadata": {},
     "output_type": "execute_result"
    },
    {
     "data": {
      "image/png": "[encoded data removed]",
      "text/plain": [
       "<Figure size 720x720 with 2 Axes>"
      ]
     },
     "metadata": {
      "needs_background": "light"
     },
     "output_type": "display_data"
    }
   ],
   "source": [
    "plt.figure(figsize=(10,10))\n",
    "sns.heatmap(cm, annot=True)"
   ]
  },
  {
   "cell_type": "code",
   "execution_count": 24,
   "id": "15bc07d1",
   "metadata": {
    "scrolled": true
   },
   "outputs": [],
   "source": [
    "import os\n",
    "directory = os.path.join(os.getcwd(), \"cnn_model\")\n",
    "if not os.path.isdir(directory):\n",
    "    os.makedirs(directory)\n",
    "model_path = os.path.join(directory, \"CNN_Cifar10.h5\")\n",
    "cnn.save(model_path)"
   ]
  },
  {
   "cell_type": "code",
   "execution_count": null,
   "id": "23155ce5",
   "metadata": {},
   "outputs": [],
   "source": []
  }
 ],
 "metadata": {
  "kernelspec": {
   "display_name": "Python 3 (ipykernel)",
   "language": "python",
   "name": "python3"
  },
  "language_info": {
   "codemirror_mode": {
    "name": "ipython",
    "version": 3
   },
   "file_extension": ".py",
   "mimetype": "text/x-python",
   "name": "python",
   "nbconvert_exporter": "python",
   "pygments_lexer": "ipython3",
   "version": "3.10.4"
  }
 },
 "nbformat": 4,
 "nbformat_minor": 5
}
