{
 "cells": [
  {
   "cell_type": "code",
   "execution_count": 2,
   "id": "c497776c",
   "metadata": {},
   "outputs": [],
   "source": [
    "import numpy as np \n",
    "import pandas as pd \n",
    "import tensorflow as tf "
   ]
  },
  {
   "cell_type": "code",
   "execution_count": 3,
   "id": "8058c439",
   "metadata": {},
   "outputs": [],
   "source": [
    "dataset = pd.read_csv(\"Churn_Modelling.csv\")\n",
    "x = dataset.iloc[:, 3:-1].values\n",
    "y = dataset.iloc[:, -1].values"
   ]
  },
  {
   "cell_type": "code",
   "execution_count": 4,
   "id": "feb54191",
   "metadata": {},
   "outputs": [
    {
     "name": "stdout",
     "output_type": "stream",
     "text": [
      "[[619 'France' 'Female' ... 1 1 101348.88]\n",
      " [608 'Spain' 'Female' ... 0 1 112542.58]\n",
      " [502 'France' 'Female' ... 1 0 113931.57]\n",
      " ...\n",
      " [709 'France' 'Female' ... 0 1 42085.58]\n",
      " [772 'Germany' 'Male' ... 1 0 92888.52]\n",
      " [792 'France' 'Female' ... 1 0 38190.78]]\n"
     ]
    }
   ],
   "source": [
    "print(x)"
   ]
  },
  {
   "cell_type": "code",
   "execution_count": 5,
   "id": "8b5c6a91",
   "metadata": {},
   "outputs": [],
   "source": [
    "from sklearn.preprocessing import OneHotEncoder\n",
    "from sklearn.compose import ColumnTransformer\n",
    "from sklearn.preprocessing import LabelEncoder\n",
    "le = LabelEncoder()\n",
    "x[:, 2] = le.fit_transform(x[:, 2])\n",
    "ct = ColumnTransformer(transformers=[(\"encoder\", OneHotEncoder(), [1])], remainder=\"passthrough\")\n",
    "x = np.array(ct.fit_transform(x))"
   ]
  },
  {
   "cell_type": "code",
   "execution_count": 6,
   "id": "16d7eb6c",
   "metadata": {},
   "outputs": [
    {
     "name": "stdout",
     "output_type": "stream",
     "text": [
      "[[1.0 0.0 0.0 ... 1 1 101348.88]\n",
      " [0.0 0.0 1.0 ... 0 1 112542.58]\n",
      " [1.0 0.0 0.0 ... 1 0 113931.57]\n",
      " ...\n",
      " [1.0 0.0 0.0 ... 0 1 42085.58]\n",
      " [0.0 1.0 0.0 ... 1 0 92888.52]\n",
      " [1.0 0.0 0.0 ... 1 0 38190.78]]\n"
     ]
    }
   ],
   "source": [
    "print(x)"
   ]
  },
  {
   "cell_type": "code",
   "execution_count": 32,
   "id": "cf1cfef8",
   "metadata": {},
   "outputs": [],
   "source": [
    "from sklearn.model_selection import train_test_split\n",
    "x_train, x_test, y_train, y_test = train_test_split(x,y,test_size=0.2,random_state=0)"
   ]
  },
  {
   "cell_type": "code",
   "execution_count": 33,
   "id": "c1633776",
   "metadata": {},
   "outputs": [],
   "source": [
    "from sklearn.preprocessing import StandardScaler\n",
    "sc = StandardScaler()\n",
    "x_train = sc.fit_transform(x_train)\n",
    "x_test = sc.transform(x_test)"
   ]
  },
  {
   "cell_type": "code",
   "execution_count": 34,
   "id": "9b2aa6eb",
   "metadata": {},
   "outputs": [],
   "source": [
    "ann = tf.keras.models.Sequential() # Initializing ANN "
   ]
  },
  {
   "cell_type": "code",
   "execution_count": 35,
   "id": "12ef30eb",
   "metadata": {},
   "outputs": [],
   "source": [
    "# Adding the input layer and first hidden layer\n",
    "ann.add(tf.keras.layers.Dense(units=6, activation='relu'))"
   ]
  },
  {
   "cell_type": "code",
   "execution_count": 36,
   "id": "7ae66bc6",
   "metadata": {},
   "outputs": [],
   "source": [
    "# Adding the second hidden layer \n",
    "ann.add(tf.keras.layers.Dense(units=6, activation='relu'))"
   ]
  },
  {
   "cell_type": "code",
   "execution_count": 37,
   "id": "e0ffa67f",
   "metadata": {},
   "outputs": [],
   "source": [
    "# Adding the output layer\n",
    "ann.add(tf.keras.layers.Dense(units=1, activation='sigmoid')) # if not binary classification we use activation 'softmax'"
   ]
  },
  {
   "cell_type": "code",
   "execution_count": 38,
   "id": "d99670a3",
   "metadata": {},
   "outputs": [],
   "source": [
    "# TRAINING ANN \n",
    "# Compiling ANN\n",
    "ann.compile(optimizer='adam', loss='binary_crossentropy', metrics=['accuracy']) # if not binary classification we use loss = 'categorical_crossentropy'"
   ]
  },
  {
   "cell_type": "code",
   "execution_count": 39,
   "id": "507a68bb",
   "metadata": {},
   "outputs": [
    {
     "name": "stdout",
     "output_type": "stream",
     "text": [
      "Epoch 1/100\n",
      "250/250 [==============================] - 0s 1ms/step - loss: 0.6610 - accuracy: 0.5859\n",
      "Epoch 2/100\n",
      "250/250 [==============================] - 0s 1ms/step - loss: 0.4879 - accuracy: 0.7895\n",
      "Epoch 3/100\n",
      "250/250 [==============================] - 0s 1ms/step - loss: 0.4499 - accuracy: 0.7984\n",
      "Epoch 4/100\n",
      "250/250 [==============================] - 0s 1ms/step - loss: 0.4347 - accuracy: 0.8010\n",
      "Epoch 5/100\n",
      "250/250 [==============================] - 0s 1ms/step - loss: 0.4263 - accuracy: 0.8043\n",
      "Epoch 6/100\n",
      "250/250 [==============================] - 0s 1ms/step - loss: 0.4205 - accuracy: 0.8121\n",
      "Epoch 7/100\n",
      "250/250 [==============================] - 0s 1ms/step - loss: 0.4156 - accuracy: 0.8161\n",
      "Epoch 8/100\n",
      "250/250 [==============================] - 0s 1ms/step - loss: 0.4102 - accuracy: 0.8189\n",
      "Epoch 9/100\n",
      "250/250 [==============================] - 0s 1ms/step - loss: 0.4042 - accuracy: 0.8223\n",
      "Epoch 10/100\n",
      "250/250 [==============================] - 0s 1ms/step - loss: 0.3974 - accuracy: 0.8261\n",
      "Epoch 11/100\n",
      "250/250 [==============================] - 0s 943us/step - loss: 0.3919 - accuracy: 0.8291\n",
      "Epoch 12/100\n",
      "250/250 [==============================] - 0s 1ms/step - loss: 0.3869 - accuracy: 0.8324\n",
      "Epoch 13/100\n",
      "250/250 [==============================] - 0s 1ms/step - loss: 0.3826 - accuracy: 0.8353\n",
      "Epoch 14/100\n",
      "250/250 [==============================] - 0s 1ms/step - loss: 0.3788 - accuracy: 0.8365\n",
      "Epoch 15/100\n",
      "250/250 [==============================] - 0s 1ms/step - loss: 0.3754 - accuracy: 0.8388\n",
      "Epoch 16/100\n",
      "250/250 [==============================] - 0s 1ms/step - loss: 0.3722 - accuracy: 0.8388\n",
      "Epoch 17/100\n",
      "250/250 [==============================] - 0s 976us/step - loss: 0.3683 - accuracy: 0.8404\n",
      "Epoch 18/100\n",
      "250/250 [==============================] - 0s 1ms/step - loss: 0.3648 - accuracy: 0.8441\n",
      "Epoch 19/100\n",
      "250/250 [==============================] - 0s 998us/step - loss: 0.3605 - accuracy: 0.8453\n",
      "Epoch 20/100\n",
      "250/250 [==============================] - 0s 1ms/step - loss: 0.3567 - accuracy: 0.8479\n",
      "Epoch 21/100\n",
      "250/250 [==============================] - 0s 1ms/step - loss: 0.3527 - accuracy: 0.8512\n",
      "Epoch 22/100\n",
      "250/250 [==============================] - 0s 1ms/step - loss: 0.3496 - accuracy: 0.8546\n",
      "Epoch 23/100\n",
      "250/250 [==============================] - 0s 953us/step - loss: 0.3468 - accuracy: 0.8555\n",
      "Epoch 24/100\n",
      "250/250 [==============================] - 0s 980us/step - loss: 0.3454 - accuracy: 0.8587\n",
      "Epoch 25/100\n",
      "250/250 [==============================] - 0s 998us/step - loss: 0.3442 - accuracy: 0.8585\n",
      "Epoch 26/100\n",
      "250/250 [==============================] - 0s 1ms/step - loss: 0.3436 - accuracy: 0.8581\n",
      "Epoch 27/100\n",
      "250/250 [==============================] - 0s 1ms/step - loss: 0.3433 - accuracy: 0.8581\n",
      "Epoch 28/100\n",
      "250/250 [==============================] - 0s 1ms/step - loss: 0.3425 - accuracy: 0.8611\n",
      "Epoch 29/100\n",
      "250/250 [==============================] - 0s 1ms/step - loss: 0.3425 - accuracy: 0.8580\n",
      "Epoch 30/100\n",
      "250/250 [==============================] - 0s 1ms/step - loss: 0.3421 - accuracy: 0.8586\n",
      "Epoch 31/100\n",
      "250/250 [==============================] - 0s 931us/step - loss: 0.3417 - accuracy: 0.8594\n",
      "Epoch 32/100\n",
      "250/250 [==============================] - 0s 921us/step - loss: 0.3412 - accuracy: 0.8586\n",
      "Epoch 33/100\n",
      "250/250 [==============================] - 0s 967us/step - loss: 0.3411 - accuracy: 0.8602\n",
      "Epoch 34/100\n",
      "250/250 [==============================] - 0s 930us/step - loss: 0.3408 - accuracy: 0.8587\n",
      "Epoch 35/100\n",
      "250/250 [==============================] - 0s 972us/step - loss: 0.3404 - accuracy: 0.8590\n",
      "Epoch 36/100\n",
      "250/250 [==============================] - 0s 919us/step - loss: 0.3405 - accuracy: 0.8593\n",
      "Epoch 37/100\n",
      "250/250 [==============================] - 0s 966us/step - loss: 0.3401 - accuracy: 0.8591\n",
      "Epoch 38/100\n",
      "250/250 [==============================] - 0s 975us/step - loss: 0.3398 - accuracy: 0.8581\n",
      "Epoch 39/100\n",
      "250/250 [==============================] - 0s 963us/step - loss: 0.3395 - accuracy: 0.8599\n",
      "Epoch 40/100\n",
      "250/250 [==============================] - 0s 961us/step - loss: 0.3393 - accuracy: 0.8590\n",
      "Epoch 41/100\n",
      "250/250 [==============================] - 0s 1ms/step - loss: 0.3392 - accuracy: 0.8595\n",
      "Epoch 42/100\n",
      "250/250 [==============================] - 0s 1ms/step - loss: 0.3391 - accuracy: 0.8589\n",
      "Epoch 43/100\n",
      "250/250 [==============================] - 0s 1ms/step - loss: 0.3389 - accuracy: 0.8586\n",
      "Epoch 44/100\n",
      "250/250 [==============================] - 0s 1ms/step - loss: 0.3385 - accuracy: 0.8597\n",
      "Epoch 45/100\n",
      "250/250 [==============================] - 0s 1ms/step - loss: 0.3384 - accuracy: 0.8597\n",
      "Epoch 46/100\n",
      "250/250 [==============================] - 0s 1ms/step - loss: 0.3382 - accuracy: 0.8593\n",
      "Epoch 47/100\n",
      "250/250 [==============================] - 0s 1ms/step - loss: 0.3385 - accuracy: 0.8599\n",
      "Epoch 48/100\n",
      "250/250 [==============================] - 0s 982us/step - loss: 0.3380 - accuracy: 0.8591\n",
      "Epoch 49/100\n",
      "250/250 [==============================] - 0s 1ms/step - loss: 0.3380 - accuracy: 0.8611\n",
      "Epoch 50/100\n",
      "250/250 [==============================] - 0s 1ms/step - loss: 0.3379 - accuracy: 0.8583\n",
      "Epoch 51/100\n",
      "250/250 [==============================] - 0s 1ms/step - loss: 0.3377 - accuracy: 0.8591\n",
      "Epoch 52/100\n",
      "250/250 [==============================] - 0s 1ms/step - loss: 0.3381 - accuracy: 0.8594\n",
      "Epoch 53/100\n",
      "250/250 [==============================] - 0s 949us/step - loss: 0.3376 - accuracy: 0.8604\n",
      "Epoch 54/100\n",
      "250/250 [==============================] - 0s 988us/step - loss: 0.3376 - accuracy: 0.8591\n",
      "Epoch 55/100\n",
      "250/250 [==============================] - 0s 965us/step - loss: 0.3369 - accuracy: 0.8612\n",
      "Epoch 56/100\n",
      "250/250 [==============================] - 0s 1ms/step - loss: 0.3372 - accuracy: 0.8600\n",
      "Epoch 57/100\n",
      "250/250 [==============================] - 0s 983us/step - loss: 0.3372 - accuracy: 0.8600\n",
      "Epoch 58/100\n",
      "250/250 [==============================] - 0s 1ms/step - loss: 0.3373 - accuracy: 0.8596\n",
      "Epoch 59/100\n",
      "250/250 [==============================] - 0s 1ms/step - loss: 0.3370 - accuracy: 0.8596\n",
      "Epoch 60/100\n",
      "250/250 [==============================] - 0s 977us/step - loss: 0.3374 - accuracy: 0.8581\n",
      "Epoch 61/100\n",
      "250/250 [==============================] - 0s 968us/step - loss: 0.3369 - accuracy: 0.8604\n",
      "Epoch 62/100\n",
      "250/250 [==============================] - 0s 1ms/step - loss: 0.3369 - accuracy: 0.8611\n",
      "Epoch 63/100\n",
      "250/250 [==============================] - 0s 1ms/step - loss: 0.3369 - accuracy: 0.8602\n",
      "Epoch 64/100\n",
      "250/250 [==============================] - 0s 1ms/step - loss: 0.3371 - accuracy: 0.8599\n",
      "Epoch 65/100\n",
      "250/250 [==============================] - 0s 850us/step - loss: 0.3370 - accuracy: 0.8597\n",
      "Epoch 66/100\n",
      "250/250 [==============================] - 0s 1ms/step - loss: 0.3367 - accuracy: 0.8600\n",
      "Epoch 67/100\n",
      "250/250 [==============================] - 0s 927us/step - loss: 0.3369 - accuracy: 0.8594\n",
      "Epoch 68/100\n",
      "250/250 [==============================] - 0s 967us/step - loss: 0.3366 - accuracy: 0.8610\n",
      "Epoch 69/100\n",
      "250/250 [==============================] - 0s 961us/step - loss: 0.3365 - accuracy: 0.8611\n",
      "Epoch 70/100\n",
      "250/250 [==============================] - 0s 961us/step - loss: 0.3368 - accuracy: 0.8602\n",
      "Epoch 71/100\n",
      "250/250 [==============================] - 0s 968us/step - loss: 0.3367 - accuracy: 0.8597\n",
      "Epoch 72/100\n",
      "250/250 [==============================] - 0s 1ms/step - loss: 0.3366 - accuracy: 0.8611\n",
      "Epoch 73/100\n",
      "250/250 [==============================] - 0s 1ms/step - loss: 0.3365 - accuracy: 0.8606\n",
      "Epoch 74/100\n",
      "250/250 [==============================] - 0s 1ms/step - loss: 0.3364 - accuracy: 0.8599\n",
      "Epoch 75/100\n",
      "250/250 [==============================] - 0s 1ms/step - loss: 0.3365 - accuracy: 0.8591\n",
      "Epoch 76/100\n",
      "250/250 [==============================] - 0s 1ms/step - loss: 0.3370 - accuracy: 0.8611\n",
      "Epoch 77/100\n",
      "250/250 [==============================] - 0s 1ms/step - loss: 0.3367 - accuracy: 0.8595\n",
      "Epoch 78/100\n",
      "250/250 [==============================] - 0s 994us/step - loss: 0.3366 - accuracy: 0.8602\n",
      "Epoch 79/100\n",
      "250/250 [==============================] - 0s 983us/step - loss: 0.3363 - accuracy: 0.8614\n",
      "Epoch 80/100\n",
      "250/250 [==============================] - 0s 1ms/step - loss: 0.3365 - accuracy: 0.8604\n",
      "Epoch 81/100\n",
      "250/250 [==============================] - 0s 976us/step - loss: 0.3366 - accuracy: 0.8602\n",
      "Epoch 82/100\n",
      "250/250 [==============================] - 0s 915us/step - loss: 0.3365 - accuracy: 0.8611\n",
      "Epoch 83/100\n",
      "250/250 [==============================] - 0s 964us/step - loss: 0.3364 - accuracy: 0.8602\n",
      "Epoch 84/100\n",
      "250/250 [==============================] - 0s 945us/step - loss: 0.3362 - accuracy: 0.8622\n",
      "Epoch 85/100\n",
      "250/250 [==============================] - 0s 943us/step - loss: 0.3362 - accuracy: 0.8614\n",
      "Epoch 86/100\n",
      "250/250 [==============================] - 0s 1ms/step - loss: 0.3361 - accuracy: 0.8596\n",
      "Epoch 87/100\n",
      "250/250 [==============================] - 0s 1ms/step - loss: 0.3362 - accuracy: 0.8618\n",
      "Epoch 88/100\n",
      "250/250 [==============================] - 0s 1ms/step - loss: 0.3362 - accuracy: 0.8608\n",
      "Epoch 89/100\n",
      "250/250 [==============================] - 0s 1ms/step - loss: 0.3362 - accuracy: 0.8601\n",
      "Epoch 90/100\n",
      "250/250 [==============================] - 0s 1ms/step - loss: 0.3361 - accuracy: 0.8606\n",
      "Epoch 91/100\n",
      "250/250 [==============================] - 0s 890us/step - loss: 0.3361 - accuracy: 0.8606\n",
      "Epoch 92/100\n",
      "250/250 [==============================] - 0s 909us/step - loss: 0.3361 - accuracy: 0.8610\n",
      "Epoch 93/100\n",
      "250/250 [==============================] - 0s 945us/step - loss: 0.3362 - accuracy: 0.8602\n",
      "Epoch 94/100\n",
      "250/250 [==============================] - 0s 854us/step - loss: 0.3361 - accuracy: 0.8606\n",
      "Epoch 95/100\n",
      "250/250 [==============================] - 0s 1ms/step - loss: 0.3359 - accuracy: 0.8620\n",
      "Epoch 96/100\n",
      "250/250 [==============================] - 0s 992us/step - loss: 0.3359 - accuracy: 0.8610\n",
      "Epoch 97/100\n",
      "250/250 [==============================] - 0s 1ms/step - loss: 0.3361 - accuracy: 0.8606\n",
      "Epoch 98/100\n",
      "250/250 [==============================] - 0s 971us/step - loss: 0.3354 - accuracy: 0.8611\n",
      "Epoch 99/100\n",
      "250/250 [==============================] - 0s 1ms/step - loss: 0.3355 - accuracy: 0.8595\n",
      "Epoch 100/100\n",
      "250/250 [==============================] - 0s 970us/step - loss: 0.3360 - accuracy: 0.8612\n"
     ]
    },
    {
     "data": {
      "text/plain": [
       "<keras.callbacks.History at 0x17df8bca110>"
      ]
     },
     "execution_count": 39,
     "metadata": {},
     "output_type": "execute_result"
    }
   ],
   "source": [
    "# Training ANN on the Training Set\n",
    "ann.fit(x_train, y_train, batch_size=32, epochs=100)"
   ]
  },
  {
   "cell_type": "code",
   "execution_count": 47,
   "id": "e465ca6e",
   "metadata": {},
   "outputs": [
    {
     "data": {
      "text/plain": [
       "array([[False]])"
      ]
     },
     "execution_count": 47,
     "metadata": {},
     "output_type": "execute_result"
    }
   ],
   "source": [
    "ann.predict(sc.transform([[1, 0, 0, 600, 1, 40, 3, 60000, 2, 1, 1, 50000]])) > 0.5"
   ]
  },
  {
   "cell_type": "code",
   "execution_count": 46,
   "id": "9db65a24",
   "metadata": {},
   "outputs": [
    {
     "data": {
      "text/plain": [
       "array([[0.07858154]], dtype=float32)"
      ]
     },
     "execution_count": 46,
     "metadata": {},
     "output_type": "execute_result"
    }
   ],
   "source": [
    "ann.predict(sc.transform([[1, 0, 0, 600, 1, 40, 3, 60000, 2, 1, 1, 50000]]))"
   ]
  },
  {
   "cell_type": "code",
   "execution_count": 49,
   "id": "9d698d75",
   "metadata": {},
   "outputs": [
    {
     "name": "stdout",
     "output_type": "stream",
     "text": [
      "[[0 0]\n",
      " [0 1]\n",
      " [0 0]\n",
      " ...\n",
      " [0 0]\n",
      " [0 0]\n",
      " [0 0]]\n"
     ]
    }
   ],
   "source": [
    "y_pred = ann.predict(x_test)\n",
    "y_pred = (y_pred > 0.5)\n",
    "print(np.concatenate((y_pred.reshape(len(y_pred),1), y_test.reshape(len(y_test),1)), 1))"
   ]
  },
  {
   "cell_type": "code",
   "execution_count": 50,
   "id": "651a81af",
   "metadata": {},
   "outputs": [
    {
     "name": "stdout",
     "output_type": "stream",
     "text": [
      "[[1584   11]\n",
      " [ 336   69]]\n",
      "0.8265\n"
     ]
    }
   ],
   "source": [
    "from sklearn.metrics import confusion_matrix, accuracy_score\n",
    "cm = confusion_matrix(y_test, y_pred)\n",
    "ac = accuracy_score(y_test, y_pred)\n",
    "print(cm); print(ac)"
   ]
  },
  {
   "cell_type": "code",
   "execution_count": null,
   "id": "3433cdf2",
   "metadata": {},
   "outputs": [],
   "source": []
  }
 ],
 "metadata": {
  "kernelspec": {
   "display_name": "Python 3 (ipykernel)",
   "language": "python",
   "name": "python3"
  },
  "language_info": {
   "codemirror_mode": {
    "name": "ipython",
    "version": 3
   },
   "file_extension": ".py",
   "mimetype": "text/x-python",
   "name": "python",
   "nbconvert_exporter": "python",
   "pygments_lexer": "ipython3",
   "version": "3.10.4"
  }
 },
 "nbformat": 4,
 "nbformat_minor": 5
}
