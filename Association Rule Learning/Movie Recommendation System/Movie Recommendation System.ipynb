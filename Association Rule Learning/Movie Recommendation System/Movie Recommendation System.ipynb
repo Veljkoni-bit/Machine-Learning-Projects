{
 "cells": [
  {
   "cell_type": "code",
   "execution_count": 1,
   "id": "fa86353b",
   "metadata": {},
   "outputs": [],
   "source": [
    "import pandas as pd\n",
    "import numpy as np\n",
    "import matplotlib.pyplot as plt\n",
    "import seaborn as sns"
   ]
  },
  {
   "cell_type": "code",
   "execution_count": 2,
   "id": "77e93b98",
   "metadata": {},
   "outputs": [],
   "source": [
    "movies_titles_dataset = pd.read_csv(\"Movie_Id_Titles\")\n",
    "movies_rating_dataset = pd.read_csv('u.data', sep='\\t', names=['user_id', 'item_id', 'rating', 'timestamp'])\n",
    "movies_rating_dataset.drop(['timestamp'], axis = 1, inplace = True)\n",
    "movies_rating_dataset = pd.merge(movies_rating_dataset, movies_titles_dataset, on = 'item_id') "
   ]
  },
  {
   "cell_type": "code",
   "execution_count": 3,
   "id": "02103207",
   "metadata": {},
   "outputs": [],
   "source": [
    "mean_data = movies_rating_dataset.groupby('title')['rating'].describe()['mean']\n",
    "count_data = movies_rating_dataset.groupby('title')['rating'].describe()['count']\n",
    "stats_data = pd.concat([count_data, mean_data], axis = 1)"
   ]
  },
  {
   "cell_type": "code",
   "execution_count": 4,
   "id": "05812dde",
   "metadata": {},
   "outputs": [],
   "source": [
    "userid_matrix = movies_rating_dataset.pivot_table(index = 'user_id', columns = 'title', values = 'rating')\n",
    "titanic = userid_matrix['Titanic (1997)']"
   ]
  },
  {
   "cell_type": "code",
   "execution_count": 5,
   "id": "6811e7ec",
   "metadata": {},
   "outputs": [
    {
     "name": "stderr",
     "output_type": "stream",
     "text": [
      "C:\\Users\\Veljko Stojanovic\\AppData\\Local\\Programs\\Python\\Python310\\lib\\site-packages\\numpy\\lib\\function_base.py:2821: RuntimeWarning: Degrees of freedom <= 0 for slice\n",
      "  c = cov(x, y, rowvar, dtype=dtype)\n",
      "C:\\Users\\Veljko Stojanovic\\AppData\\Local\\Programs\\Python\\Python310\\lib\\site-packages\\numpy\\lib\\function_base.py:2680: RuntimeWarning: divide by zero encountered in true_divide\n",
      "  c *= np.true_divide(1, fact)\n"
     ]
    },
    {
     "data": {
      "text/html": [
       "<div>\n",
       "<style scoped>\n",
       "    .dataframe tbody tr th:only-of-type {\n",
       "        vertical-align: middle;\n",
       "    }\n",
       "\n",
       "    .dataframe tbody tr th {\n",
       "        vertical-align: top;\n",
       "    }\n",
       "\n",
       "    .dataframe thead th {\n",
       "        text-align: right;\n",
       "    }\n",
       "</style>\n",
       "<table border=\"1\" class=\"dataframe\">\n",
       "  <thead>\n",
       "    <tr style=\"text-align: right;\">\n",
       "      <th></th>\n",
       "      <th>Correlation</th>\n",
       "      <th>count</th>\n",
       "    </tr>\n",
       "    <tr>\n",
       "      <th>title</th>\n",
       "      <th></th>\n",
       "      <th></th>\n",
       "    </tr>\n",
       "  </thead>\n",
       "  <tbody>\n",
       "    <tr>\n",
       "      <th>Titanic (1997)</th>\n",
       "      <td>1.000000</td>\n",
       "      <td>350.0</td>\n",
       "    </tr>\n",
       "    <tr>\n",
       "      <th>River Wild, The (1994)</th>\n",
       "      <td>0.497600</td>\n",
       "      <td>146.0</td>\n",
       "    </tr>\n",
       "    <tr>\n",
       "      <th>Abyss, The (1989)</th>\n",
       "      <td>0.472103</td>\n",
       "      <td>151.0</td>\n",
       "    </tr>\n",
       "    <tr>\n",
       "      <th>Bram Stoker's Dracula (1992)</th>\n",
       "      <td>0.443560</td>\n",
       "      <td>120.0</td>\n",
       "    </tr>\n",
       "    <tr>\n",
       "      <th>True Lies (1994)</th>\n",
       "      <td>0.435104</td>\n",
       "      <td>208.0</td>\n",
       "    </tr>\n",
       "  </tbody>\n",
       "</table>\n",
       "</div>"
      ],
      "text/plain": [
       "                              Correlation  count\n",
       "title                                           \n",
       "Titanic (1997)                   1.000000  350.0\n",
       "River Wild, The (1994)           0.497600  146.0\n",
       "Abyss, The (1989)                0.472103  151.0\n",
       "Bram Stoker's Dracula (1992)     0.443560  120.0\n",
       "True Lies (1994)                 0.435104  208.0"
      ]
     },
     "execution_count": 5,
     "metadata": {},
     "output_type": "execute_result"
    }
   ],
   "source": [
    "titanic_correlations = pd.DataFrame(userid_matrix.corrwith(titanic), columns=['Correlation'])\n",
    "titanic_correlations = titanic_correlations.join(stats_data['count'])\n",
    "titanic_correlations.dropna(inplace=True)\n",
    "titanic_correlations[titanic_correlations['count']>80].sort_values('Correlation',ascending=False).head()"
   ]
  },
  {
   "cell_type": "code",
   "execution_count": 6,
   "id": "888f62aa",
   "metadata": {},
   "outputs": [],
   "source": [
    "movie_correlations = userid_matrix.corr(method='pearson', min_periods=80)"
   ]
  },
  {
   "cell_type": "code",
   "execution_count": 7,
   "id": "7356a7a1",
   "metadata": {},
   "outputs": [
    {
     "name": "stderr",
     "output_type": "stream",
     "text": [
      "C:\\Users\\Veljko Stojanovic\\AppData\\Local\\Temp\\ipykernel_11868\\1713328996.py:2: FutureWarning: The default dtype for empty Series will be 'object' instead of 'float64' in a future version. Specify a dtype explicitly to silence this warning.\n",
      "  similar_movies_list = pd.Series()\n",
      "C:\\Users\\Veljko Stojanovic\\AppData\\Local\\Temp\\ipykernel_11868\\1713328996.py:7: FutureWarning: The series.append method is deprecated and will be removed from pandas in a future version. Use pandas.concat instead.\n",
      "  similar_movies_list = similar_movies_list.append(similar_movie)\n",
      "C:\\Users\\Veljko Stojanovic\\AppData\\Local\\Temp\\ipykernel_11868\\1713328996.py:7: FutureWarning: The series.append method is deprecated and will be removed from pandas in a future version. Use pandas.concat instead.\n",
      "  similar_movies_list = similar_movies_list.append(similar_movie)\n"
     ]
    }
   ],
   "source": [
    "test_movies = pd.read_csv('Test_Movies.csv')\n",
    "similar_movies_list = pd.Series()\n",
    "\n",
    "for i in range(0,len(test_movies)):\n",
    "    similar_movie = movie_correlations[test_movies['Movie Name'][i]].dropna()\n",
    "    similar_movie = similar_movie.map(lambda x: x*test_movies['Ratings'][i])\n",
    "    similar_movies_list = similar_movies_list.append(similar_movie)"
   ]
  },
  {
   "cell_type": "code",
   "execution_count": 8,
   "id": "0774b36e",
   "metadata": {},
   "outputs": [
    {
     "name": "stdout",
     "output_type": "stream",
     "text": [
      "Liar Liar (1997)                             5.000000\n",
      "Con Air (1997)                               2.349141\n",
      "Pretty Woman (1990)                          2.348951\n",
      "Michael (1996)                               2.210110\n",
      "Indiana Jones and the Last Crusade (1989)    2.072136\n",
      "Top Gun (1986)                               2.028602\n",
      "G.I. Jane (1997)                             1.989656\n",
      "Multiplicity (1996)                          1.984302\n",
      "Grumpier Old Men (1995)                      1.953494\n",
      "Ghost and the Darkness, The (1996)           1.895376\n",
      "dtype: float64\n"
     ]
    }
   ],
   "source": [
    "similar_movies_list.sort_values(inplace=True, ascending=False)\n",
    "print(similar_movies_list.head(10))"
   ]
  },
  {
   "cell_type": "code",
   "execution_count": null,
   "id": "e4c90c1c",
   "metadata": {},
   "outputs": [],
   "source": []
  }
 ],
 "metadata": {
  "kernelspec": {
   "display_name": "Python 3 (ipykernel)",
   "language": "python",
   "name": "python3"
  },
  "language_info": {
   "codemirror_mode": {
    "name": "ipython",
    "version": 3
   },
   "file_extension": ".py",
   "mimetype": "text/x-python",
   "name": "python",
   "nbconvert_exporter": "python",
   "pygments_lexer": "ipython3",
   "version": "3.10.4"
  }
 },
 "nbformat": 4,
 "nbformat_minor": 5
}
